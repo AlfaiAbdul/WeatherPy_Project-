{
 "cells": [
  {
   "cell_type": "code",
   "execution_count": 1,
   "metadata": {
    "collapsed": true
   },
   "outputs": [],
   "source": [
    "# Dependencies\n",
    "import matplotlib.pyplot as plt\n",
    "from citipy import citipy as cp\n",
    "import pandas as pd\n",
    "import requests as req\n",
    "import json\n",
    "import time"
   ]
  },
  {
   "cell_type": "code",
   "execution_count": null,
   "metadata": {
    "collapsed": true
   },
   "outputs": [],
   "source": [
    "#from citipy, retrieve list of cities based on lat and lng \n",
    "list_of_cities = []\n",
    "counter = 0\n",
    "Duplicates  = 'no'\n",
    "while counter <= 550:\n",
    "    for x in range(90,-90,1):\n",
    "        for y in range(180,-180,1):\n",
    "            if counter > 550: continue   \n",
    "            city = cp.nearest_city(x, y)\n",
    "            citdict = {}\n",
    "            citdict['city'] = city.city_name\n",
    "            citdict['country'] = city.country_code\n",
    "            citdict['lat'] = x\n",
    "            citdict['long'] = y\n",
    "            if len(list_of_cities) == 0:\n",
    "                list_of_cities.append(citdict)\n",
    "                counter+=1\n",
    "                continue\n",
    "            else:\n",
    "            #Get rid of duplicates\n",
    "                for city in list_of_cities:\n",
    "                    if city['city'] == citdict['city']:\n",
    "                        Duplicates = 'yes'\n",
    "            if Duplicates == 'no':\n",
    "                list_of_cities.append(citdict)\n",
    "                counter+=1\n",
    "            else:\n",
    "                Duplicates = 'no'\n",
    "\n",
    "print(len(list_of_cities))  "
   ]
  },
  {
   "cell_type": "code",
   "execution_count": null,
   "metadata": {
    "collapsed": true
   },
   "outputs": [],
   "source": [
    "print(list_of_cities[0])"
   ]
  },
  {
   "cell_type": "code",
   "execution_count": null,
   "metadata": {
    "collapsed": true
   },
   "outputs": [],
   "source": [
    "#Creating dataframe of 549 cities\n",
    "cities_df = pd.DataFrame({\n",
    "    'city': [x['city'] for x in list_of_cities],\n",
    "    'country': [x['country'] for x in list_of_cities],\n",
    "})"
   ]
  },
  {
   "cell_type": "code",
   "execution_count": null,
   "metadata": {
    "collapsed": true
   },
   "outputs": [],
   "source": [
    "cities_sample = cities_df.sample(549)\n",
    "cities_sample"
   ]
  },
  {
   "cell_type": "code",
   "execution_count": null,
   "metadata": {
    "collapsed": true
   },
   "outputs": [],
   "source": [
    "url = \"http://api.openweathermap.org/data/2.5/weather?\"\n",
    "api_key = '745e3de348c09bb314ceec9ad93787f5'"
   ]
  },
  {
   "cell_type": "code",
   "execution_count": null,
   "metadata": {
    "collapsed": true
   },
   "outputs": [],
   "source": [
    "units = \"Imperial\"\n",
    "count = 0\n",
    "cities_sample['latitude'] = \"\"\n",
    "cities_sample['longitude'] = \"\"\n",
    "cities_sample['temperature'] = \"\"\n",
    "cities_sample['humidity'] = \"\"\n",
    "cities_sample['cloudiness'] = \"\"\n",
    "cities_sample['wind_speed'] = \"\"\n",
    "\n",
    "for index,row in cities_sample.iterrows():\n",
    "    count+= 1\n",
    "    query_url = url + \"appid=\" + api_key + \"&units=\" + units + \"&q=\" + row['city']\n",
    "    try:\n",
    "        weather_response = req.get(query_url)\n",
    "        cityweather = weather_response.json()\n",
    "#         print(cityweather)\n",
    "        cities_sample.set_value(index, \"latitude\", int(cityweather['coord']['lat']))\n",
    "        cities_sample.set_value(index, \"longitude\", int(cityweather['coord']['lat']))\n",
    "        cities_sample.set_value(index, \"temperature\", int(cityweather['main']['temp']))\n",
    "        cities_sample.set_value(index, \"humidity\", int(cityweather['main']['humidity']))\n",
    "        cities_sample.set_value(index, \"cloudiness\", int(cityweather['clouds']['all']))\n",
    "        cities_sample.set_value(index, \"wind_speed\", int(cityweather['wind']['speed']))\n",
    "    except:\n",
    "        print(f\"No data for this city: {row['city']}\")\n",
    "    print(f\"This is city#: {count}\")\n",
    "    print(f\"This is: {row['city']}\" )\n",
    "    print(f\"This is the requested URL: {query_url}\")"
   ]
  },
  {
   "cell_type": "code",
   "execution_count": null,
   "metadata": {
    "collapsed": true
   },
   "outputs": [],
   "source": [
    "cities_sample = cities_sample[cities_sample.latitude != \"\"]"
   ]
  },
  {
   "cell_type": "code",
   "execution_count": null,
   "metadata": {
    "collapsed": true
   },
   "outputs": [],
   "source": [
    "cities_sample"
   ]
  },
  {
   "cell_type": "code",
   "execution_count": null,
   "metadata": {
    "collapsed": true
   },
   "outputs": [],
   "source": [
    "# to test the accuracy of sampled cities distribution \n",
    "plt.scatter(cities_sample['latitude'],cities_sample['longitude'])\n",
    "plt.title(f\"Sample Distribution \")\n",
    "plt.xlabel(\"Latitude\")\n",
    "plt.ylabel(\"longitude\")\n",
    "plt.show()"
   ]
  },
  {
   "cell_type": "code",
   "execution_count": null,
   "metadata": {
    "collapsed": true
   },
   "outputs": [],
   "source": [
    "#using today's date\n",
    "date = time.strftime(\"%m/%d/%Y\")\n",
    "# ploting Temp and lat\n",
    "plt.scatter(cities_sample['latitude'],cities_sample['temperature'])\n",
    "plt.title(f\" City Latitude Vs. Temperature {date}\")\n",
    "plt.xlabel(\"Latitude\")\n",
    "plt.ylabel(\"Temperature (F)\")\n",
    "plt.style.use('ggplot')\n",
    "plt.savefig(\"Temperature.png\")"
   ]
  },
  {
   "cell_type": "code",
   "execution_count": null,
   "metadata": {
    "collapsed": true
   },
   "outputs": [],
   "source": [
    "plt.show()"
   ]
  },
  {
   "cell_type": "code",
   "execution_count": null,
   "metadata": {
    "collapsed": true
   },
   "outputs": [],
   "source": [
    "# plting lat and humidity\n",
    "plt.scatter(cities_sample['latitude'], cities_sample['humidity'])\n",
    "plt.title(f\"City Latitude Vs. Humidity {date}\")\n",
    "plt.xlabel(\"Latitude\")\n",
    "plt.ylabel(\"Humidity (%)\")\n",
    "plt.style.use('ggplot')\n",
    "plt.savefig(\"Humidity.png\")"
   ]
  },
  {
   "cell_type": "code",
   "execution_count": null,
   "metadata": {
    "collapsed": true
   },
   "outputs": [],
   "source": [
    "plt.show()"
   ]
  },
  {
   "cell_type": "code",
   "execution_count": null,
   "metadata": {
    "collapsed": true
   },
   "outputs": [],
   "source": [
    "# plting lat and cloudiness \n",
    "plt.scatter(cities_sample['latitude'], cities_sample['cloudiness'])\n",
    "plt.title(f\"City Latitude Vs. Cloudiness {date}\")\n",
    "plt.xlabel(\"Latitude\")\n",
    "plt.ylabel(\"Cloudiness (%)\")\n",
    "plt.style.use('ggplot')\n",
    "plt.savefig(\"Cloudiness.png\")"
   ]
  },
  {
   "cell_type": "code",
   "execution_count": null,
   "metadata": {
    "collapsed": true
   },
   "outputs": [],
   "source": [
    "plt.show()"
   ]
  },
  {
   "cell_type": "code",
   "execution_count": null,
   "metadata": {
    "collapsed": true
   },
   "outputs": [],
   "source": [
    "# plting lat and windspeed\n",
    "plt.scatter(cities_sample['latitude'], cities_sample['wind_speed'])\n",
    "plt.title(f\"City Latitude Vs. Wend Speed {date}\")\n",
    "plt.xlabel(\"Latitude\")\n",
    "plt.ylabel(\"Wind Speed(mph)\")\n",
    "plt.style.use('ggplot')\n",
    "plt.savefig(\"Wind_Speed.png\")"
   ]
  },
  {
   "cell_type": "code",
   "execution_count": null,
   "metadata": {
    "collapsed": true
   },
   "outputs": [],
   "source": [
    "plt.show()"
   ]
  },
  {
   "cell_type": "code",
   "execution_count": null,
   "metadata": {
    "collapsed": true
   },
   "outputs": [],
   "source": []
  },
  {
   "cell_type": "code",
   "execution_count": null,
   "metadata": {
    "collapsed": true
   },
   "outputs": [],
   "source": []
  }
 ],
 "metadata": {
  "kernelspec": {
   "display_name": "Python 3",
   "language": "python",
   "name": "python3"
  },
  "language_info": {
   "codemirror_mode": {
    "name": "ipython",
    "version": 3
   },
   "file_extension": ".py",
   "mimetype": "text/x-python",
   "name": "python",
   "nbconvert_exporter": "python",
   "pygments_lexer": "ipython3",
   "version": "3.6.3"
  }
 },
 "nbformat": 4,
 "nbformat_minor": 2
}
