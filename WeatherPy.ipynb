{
 "cells": [
  {
   "cell_type": "code",
   "execution_count": 1,
   "metadata": {
    "collapsed": true
   },
   "outputs": [],
   "source": [
    "# Dependencies\n",
    "import matplotlib.pyplot as plt\n",
    "from citipy import citipy as cp\n",
    "import pandas as pd\n",
    "import requests as req\n",
    "import json"
   ]
  },
  {
   "cell_type": "code",
   "execution_count": 2,
   "metadata": {},
   "outputs": [
    {
     "name": "stdout",
     "output_type": "stream",
     "text": [
      "7957\n"
     ]
    }
   ],
   "source": [
    "#from citipy, retrieve list of cities based on lat and lng \n",
    "list_of_cities = []\n",
    "counter = 0\n",
    "Duplicates  = 'no'\n",
    "\n",
    "for x in range(-90,90,1):\n",
    "    for y in range(-180,180,1):\n",
    "        city = cp.nearest_city(x, y)\n",
    "        citdict = {}\n",
    "        citdict['city'] = city.city_name\n",
    "        citdict['country'] = city.country_code\n",
    "        citdict['lat'] = x\n",
    "        citdict['long'] = y\n",
    "        if len(list_of_cities) == 0:\n",
    "            list_of_cities.append(citdict)\n",
    "            counter+=1\n",
    "            continue\n",
    "        else:\n",
    "            #Get rid of duplicates\n",
    "            for city in list_of_cities:\n",
    "                if city['city'] == citdict['city']:\n",
    "                    Duplicates = 'yes'\n",
    "        if Duplicates == 'no':\n",
    "            list_of_cities.append(citdict)\n",
    "            counter+=1\n",
    "        else:\n",
    "            Duplicates = 'no'\n",
    "\n",
    "print(len(list_of_cities))"
   ]
  },
  {
   "cell_type": "code",
   "execution_count": 4,
   "metadata": {},
   "outputs": [
    {
     "name": "stdout",
     "output_type": "stream",
     "text": [
      "{'city': 'vaini', 'country': 'to', 'lat': -90, 'long': -180}\n"
     ]
    }
   ],
   "source": [
    "print(list_of_cities[0])"
   ]
  },
  {
   "cell_type": "code",
   "execution_count": null,
   "metadata": {
    "collapsed": true
   },
   "outputs": [],
   "source": []
  }
 ],
 "metadata": {
  "kernelspec": {
   "display_name": "Python 3",
   "language": "python",
   "name": "python3"
  },
  "language_info": {
   "codemirror_mode": {
    "name": "ipython",
    "version": 3
   },
   "file_extension": ".py",
   "mimetype": "text/x-python",
   "name": "python",
   "nbconvert_exporter": "python",
   "pygments_lexer": "ipython3",
   "version": "3.6.3"
  }
 },
 "nbformat": 4,
 "nbformat_minor": 2
}
